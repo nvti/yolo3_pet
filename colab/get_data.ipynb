{
  "nbformat": 4,
  "nbformat_minor": 0,
  "metadata": {
    "colab": {
      "name": "Untitled0.ipynb",
      "provenance": [],
      "authorship_tag": "ABX9TyPxwRczZBI6RFtrYXGgKRis",
      "include_colab_link": true
    },
    "kernelspec": {
      "name": "python3",
      "display_name": "Python 3"
    },
    "accelerator": "GPU"
  },
  "cells": [
    {
      "cell_type": "markdown",
      "metadata": {
        "id": "view-in-github",
        "colab_type": "text"
      },
      "source": [
        "<a href=\"https://colab.research.google.com/github/tiena2cva/yolo3_pet/blob/master/colab/get_data.ipynb\" target=\"_parent\"><img src=\"https://colab.research.google.com/assets/colab-badge.svg\" alt=\"Open In Colab\"/></a>"
      ]
    },
    {
      "cell_type": "code",
      "metadata": {
        "id": "e327KGUgt2VN",
        "colab_type": "code",
        "colab": {}
      },
      "source": [
        "from google.colab import drive\n",
        "drive.mount('/drive')"
      ],
      "execution_count": 0,
      "outputs": []
    },
    {
      "cell_type": "code",
      "metadata": {
        "id": "R-FzYHuCu9Yx",
        "colab_type": "code",
        "colab": {}
      },
      "source": [
        "!git clone https://github.com/tiena2cva/yolo3_pet"
      ],
      "execution_count": 0,
      "outputs": []
    },
    {
      "cell_type": "code",
      "metadata": {
        "id": "K36RXdtmyR5R",
        "colab_type": "code",
        "colab": {}
      },
      "source": [
        "%cd yolo3_pet"
      ],
      "execution_count": 0,
      "outputs": []
    },
    {
      "cell_type": "code",
      "metadata": {
        "id": "PPtqgeyuwqfi",
        "colab_type": "code",
        "colab": {}
      },
      "source": [
        "!git submodule init && git submodule update"
      ],
      "execution_count": 0,
      "outputs": []
    },
    {
      "cell_type": "markdown",
      "metadata": {
        "id": "6GKxLkApD03i",
        "colab_type": "text"
      },
      "source": [
        "# Generate dataset"
      ]
    },
    {
      "cell_type": "code",
      "metadata": {
        "id": "x8huZXSfwB5n",
        "colab_type": "code",
        "colab": {}
      },
      "source": [
        "!./scripts/get_data.sh"
      ],
      "execution_count": 0,
      "outputs": []
    },
    {
      "cell_type": "code",
      "metadata": {
        "id": "GxMBrKOHysMJ",
        "colab_type": "code",
        "colab": {}
      },
      "source": [
        "!python gen_dataset.py"
      ],
      "execution_count": 0,
      "outputs": []
    },
    {
      "cell_type": "code",
      "metadata": {
        "id": "FctUq65c1cOL",
        "colab_type": "code",
        "colab": {}
      },
      "source": [
        "#fix error when using keras 2.2.5\n",
        "!echo \"from .load_backend import control_flow_ops\"$'\\n'\"from .load_backend import set_image_dim_ordering\"$'\\n'\"$(cat /usr/local/lib/python3.6/dist-packages/keras/backend/__init__.py)\" > /usr/local/lib/python3.6/dist-packages/keras/backend/__init__.py"
      ],
      "execution_count": 0,
      "outputs": []
    },
    {
      "cell_type": "markdown",
      "metadata": {
        "id": "UgyIdXNtD48U",
        "colab_type": "text"
      },
      "source": [
        "# Train"
      ]
    },
    {
      "cell_type": "code",
      "metadata": {
        "id": "-rQw9sVjwJCE",
        "colab_type": "code",
        "colab": {}
      },
      "source": [
        "!python keras-yolo3/train.py --anchor keras-yolo3/model_data/tiny_yolo_anchors.txt \\\n",
        "                             --weight pretrained/yolov3-tiny.h5 \\\n",
        "                             --log '/drive/My Drive/yolov3_pet/log/000'"
      ],
      "execution_count": 0,
      "outputs": []
    },
    {
      "cell_type": "markdown",
      "metadata": {
        "id": "u0A_MFoRD62z",
        "colab_type": "text"
      },
      "source": [
        "# Test"
      ]
    },
    {
      "cell_type": "code",
      "metadata": {
        "id": "9sUYyC800QX8",
        "colab_type": "code",
        "colab": {}
      },
      "source": [
        "!python keras-yolo3/yolo_video.py --anchors_path keras-yolo3/model_data/tiny_yolo_anchors.txt \\\n",
        "                                  --model_path '/drive/My Drive/yolov3_pet/log/trained_weights_final.h5' \\\n",
        "                                  --classes_path '/drive/My Drive/yolov3_pet/log/class.txt' \\\n",
        "                                  --image \\\n",
        "                                  --font_path keras-yolo3/font/FiraMono-Medium.otf \\\n",
        "                                  --input data/test.txt"
      ],
      "execution_count": 0,
      "outputs": []
    },
    {
      "cell_type": "code",
      "metadata": {
        "id": "zjL8c3LeFULO",
        "colab_type": "code",
        "colab": {}
      },
      "source": [
        ""
      ],
      "execution_count": 0,
      "outputs": []
    }
  ]
}